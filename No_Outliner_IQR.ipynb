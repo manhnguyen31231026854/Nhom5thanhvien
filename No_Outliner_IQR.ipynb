{
  "nbformat": 4,
  "nbformat_minor": 0,
  "metadata": {
    "colab": {
      "provenance": []
    },
    "kernelspec": {
      "name": "python3",
      "display_name": "Python 3"
    },
    "language_info": {
      "name": "python"
    }
  },
  "cells": [
    {
      "cell_type": "code",
      "execution_count": null,
      "metadata": {
        "id": "myntAk-Q_Inz"
      },
      "outputs": [],
      "source": [
        "# ===============================================================\n",
        "# 🧹 LỌC OUTLIER TRONG CỘT \"Vol.\" CHO MÃ HPG + TẢI FILE VỀ MÁY\n",
        "# ===============================================================\n",
        "\n",
        "# --- 1. Import thư viện ---\n",
        "import pandas as pd\n",
        "from google.colab import files\n",
        "\n",
        "# --- 2. Tải file lên từ máy (nếu chưa có trong Colab) ---\n",
        "# Chạy dòng này nếu bạn chưa có file trong môi trường\n",
        "# from google.colab import files\n",
        "# uploaded = files.upload()\n",
        "\n",
        "# --- 3. Đọc file dữ liệu gốc ---\n",
        "df = pd.read_csv(\"merged_stock_data.csv\")\n",
        "print(\"✅ Số dòng ban đầu:\", len(df))\n",
        "\n",
        "# --- 4. Chuyển cột Vol. sang dạng số (xử lý 'K', 'M', ',') ---\n",
        "def to_number(s):\n",
        "    s = str(s)\n",
        "    s = s.replace(',', '').upper().replace('K', 'E3').replace('M', 'E6')\n",
        "    try:\n",
        "        return float(s)\n",
        "    except:\n",
        "        return None\n",
        "\n",
        "df['Vol.'] = df['Vol.'].map(to_number)\n",
        "\n",
        "# --- 5. Lọc outlier của mã HPG bằng phương pháp IQR ---\n",
        "hpg_vol = df[df['Ticker'] == 'HPG']['Vol.']\n",
        "Q1 = hpg_vol.quantile(0.25)\n",
        "Q3 = hpg_vol.quantile(0.75)\n",
        "IQR = Q3 - Q1\n",
        "\n",
        "lower_bound = Q1 - 1.5 * IQR\n",
        "upper_bound = Q3 + 1.5 * IQR\n",
        "\n",
        "df_no_outlier = df[~((df['Ticker'] == 'HPG') &\n",
        "                     ((df['Vol.'] < lower_bound) | (df['Vol.'] > upper_bound)))]\n",
        "\n",
        "print(\"✅ Số dòng sau khi lọc:\", len(df_no_outlier))\n",
        "\n",
        "# --- 6. Xuất file mới ---\n",
        "output_file = \"merged_stock_data_no_outlier_1.csv\"\n",
        "df_no_outlier.to_csv(output_file, index=False)\n",
        "print(f\"💾 File mới đã được lưu: {output_file}\")\n",
        "\n",
        "# --- 7. Tải file về máy ---\n",
        "files.download(output_file)"
      ]
    }
  ]
}
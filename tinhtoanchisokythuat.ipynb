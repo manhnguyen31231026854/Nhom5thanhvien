{
 "cells": [
  {
   "cell_type": "code",
   "execution_count": 5,
   "id": "d3acb7ce-cbdf-4438-8ac9-a264247b2f49",
   "metadata": {},
   "outputs": [
    {
     "name": "stdout",
     "output_type": "stream",
     "text": [
      "Hoàn thành! Dữ liệu đã được xuất thành công ra tệp 'stock_data_with_indicators.csv'.\n"
     ]
    },
    {
     "name": "stderr",
     "output_type": "stream",
     "text": [
      "/tmp/ipykernel_572/4008130362.py:65: FutureWarning: DataFrameGroupBy.apply operated on the grouping columns. This behavior is deprecated, and in a future version of pandas the grouping columns will be excluded from the operation. Either pass `include_groups=False` to exclude the groupings or explicitly select the grouping columns after groupby to silence this warning.\n",
      "  df_with_indicators = df.groupby('Ticker', group_keys=False).apply(\n"
     ]
    }
   ],
   "source": [
    "import pandas as pd\n",
    "import numpy as np\n",
    "from numpy.lib.stride_tricks import as_strided\n",
    "\n",
    "def calculate_technical_indicators(df: pd.DataFrame, period: int = 14, decay_factor: float = 0.9) -> pd.DataFrame:\n",
    "    \"\"\"\n",
    "    Tính toán các chỉ số kỹ thuật VWAP, WCP, ZLMA, FWMA, và Decay.\n",
    "    \"\"\"\n",
    "    data = df.copy()\n",
    "\n",
    "    # 1. Weighted Close Price (WCP)\n",
    "    data['WCP'] = (data['High'] + data['Low'] + 2 * data['Price']) / 4\n",
    "\n",
    "    # 2. Volume Weighted Average Price (VWAP)\n",
    "    vwap_num = (data['WCP'] * data['Vol.']).rolling(window=period).sum()\n",
    "    vwap_den = data['Vol.'].rolling(window=period).sum()\n",
    "    data['VWAP'] = vwap_num / vwap_den\n",
    "\n",
    "    # 3. Zero-Lag Moving Average (ZLMA)\n",
    "    ema1 = data['Price'].ewm(span=period, adjust=False).mean()\n",
    "    source = 2 * data['Price'] - ema1\n",
    "    data['ZLMA'] = source.ewm(span=period, adjust=False).mean()\n",
    "\n",
    "    # 4. Fourier Weight Moving Average (FWMA)\n",
    "    def fwma_calc(prices: np.ndarray) -> float:\n",
    "        n = len(prices)\n",
    "        i = np.arange(1, n + 1)\n",
    "        weights = np.cos((i - 1) * np.pi / n)\n",
    "        return np.dot(prices, weights) / np.sum(weights)\n",
    "\n",
    "    data['FWMA'] = data['Price'].rolling(window=period).apply(fwma_calc, raw=True)\n",
    "\n",
    "    # 5. Decay\n",
    "    if len(data) >= period:\n",
    "        price_vals = data['Price'].values\n",
    "        vol_vals = data['Vol.'].values\n",
    "\n",
    "        s_price = price_vals.strides[0]\n",
    "        price_windows = as_strided(price_vals, shape=(len(price_vals) - period + 1, period), strides=(s_price, s_price))\n",
    "\n",
    "        s_vol = vol_vals.strides[0]\n",
    "        vol_windows = as_strided(vol_vals, shape=(len(vol_vals) - period + 1, period), strides=(s_vol, s_vol))\n",
    "\n",
    "        decay_weights = decay_factor ** np.arange(period - 1, -1, -1)\n",
    "        numerator = np.sum(price_windows * vol_windows * decay_weights, axis=1)\n",
    "        denominator = np.sum(vol_windows * decay_weights, axis=1)\n",
    "        decay_result = np.divide(numerator, denominator, out=np.full_like(numerator, np.nan), where=denominator != 0)\n",
    "        padded_decay = np.concatenate([np.full(period - 1, np.nan), decay_result])\n",
    "        data['Decay'] = padded_decay\n",
    "    else:\n",
    "        data['Decay'] = np.nan\n",
    "\n",
    "    return data\n",
    "\n",
    "# --- BẮT ĐẦU THỰC THI ---\n",
    "try:\n",
    "    # 1. Đọc dữ liệu\n",
    "    df = pd.read_csv('cleaned_stock_data.csv')\n",
    "\n",
    "    # 2. Tiền xử lý\n",
    "    df['Date'] = pd.to_datetime(df['Date'])\n",
    "    df = df.sort_values(['Ticker', 'Date'])\n",
    "\n",
    "    # 3. Áp dụng hàm tính toán\n",
    "    df_with_indicators = df.groupby('Ticker', group_keys=False).apply(\n",
    "        calculate_technical_indicators, \n",
    "        period=20,\n",
    "        decay_factor=0.95\n",
    "    )\n",
    "    \n",
    "    # 4. XUẤT RA TỆP CSV\n",
    "    output_filename = 'stock_data_with_indicators.csv'\n",
    "    df_with_indicators.to_csv(output_filename, index=False, encoding='utf-8')\n",
    "\n",
    "    print(f\"Hoàn thành! Dữ liệu đã được xuất thành công ra tệp '{output_filename}'.\")\n",
    "\n",
    "except FileNotFoundError:\n",
    "    print(\"Lỗi: Không tìm thấy tệp 'cleaned_stock_data.csv'.\")\n",
    "    print(\"Vui lòng đảm bảo tệp dữ liệu nằm cùng thư mục với file code.\")"
   ]
  },
  {
   "cell_type": "code",
   "execution_count": null,
   "id": "ae220578-af48-4f10-a749-2e48f6a7d7f8",
   "metadata": {},
   "outputs": [],
   "source": []
  }
 ],
 "metadata": {
  "kernelspec": {
   "display_name": "Python 3 (ipykernel)",
   "language": "python",
   "name": "python3"
  },
  "language_info": {
   "codemirror_mode": {
    "name": "ipython",
    "version": 3
   },
   "file_extension": ".py",
   "mimetype": "text/x-python",
   "name": "python",
   "nbconvert_exporter": "python",
   "pygments_lexer": "ipython3",
   "version": "3.12.1"
  }
 },
 "nbformat": 4,
 "nbformat_minor": 5
}

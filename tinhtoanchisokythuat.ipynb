{
 "cells": [
  {
   "cell_type": "code",
   "execution_count": 17,
   "id": "d3acb7ce-cbdf-4438-8ac9-a264247b2f49",
   "metadata": {},
   "outputs": [
    {
     "name": "stdout",
     "output_type": "stream",
     "text": [
      "Hoàn thành! Dữ liệu đã được xuất thành công ra tệp 'stock_data_with_indicators.csv'.\n"
     ]
    },
    {
     "name": "stderr",
     "output_type": "stream",
     "text": [
      "C:\\Users\\ZenBook\\AppData\\Local\\Temp\\ipykernel_21792\\1054271040.py:74: FutureWarning: DataFrameGroupBy.apply operated on the grouping columns. This behavior is deprecated, and in a future version of pandas the grouping columns will be excluded from the operation. Either pass `include_groups=False` to exclude the groupings or explicitly select the grouping columns after groupby to silence this warning.\n",
      "  df_with_indicators = df.groupby('Ticker', group_keys=False).apply(\n"
     ]
    }
   ],
   "source": [
    "import pandas as pd\n",
    "import numpy as np\n",
    "from numpy.lib.stride_tricks import as_strided\n",
    "\n",
    "def calculate_technical_indicators(df: pd.DataFrame, period: int = 14, decay_factor: float = 0.9, decay_lambda: float | None = None) -> pd.DataFrame:\n",
    "    \"\"\"\n",
    "    Tính toán các chỉ số kỹ thuật VWAP, WCP, ZLMA, FWMA, và Decay.\n",
    "    \"\"\"\n",
    "    data = df.copy()\n",
    "\n",
    "    # 1. Weighted Close Price (WCP)\n",
    "    data['WCP'] = (data['High'] + data['Low'] + 2 * data['Price']) / 4\n",
    "\n",
    "    # 2. Volume Weighted Average Price (VWAP)\n",
    "    data['WAP'] = (data['High'] + data['Low'] + data['Price']) / 3\n",
    "    vwap_num = (data['WAP'] * data['Vol.']).rolling(window=period).sum()\n",
    "    vwap_den = data['Vol.'].rolling(window=period).sum()\n",
    "    data['VWAP'] = vwap_num / vwap_den\n",
    "\n",
    "    # 3. Zero-Lag Moving Average (ZLMA)\n",
    "    ema1 = data['Price'].ewm(span=period, adjust=False).mean()\n",
    "    source = 2 * data['Price'] - ema1\n",
    "    data['ZLMA'] = source.ewm(span=period, adjust=False).mean()\n",
    "\n",
    "    # 4. Fibonacci's Weight Moving Average (FWMA)\n",
    "    def fwma_fibonacci(prices: np.ndarray) -> float:\n",
    "        n = len(prices)\n",
    "        fib = [1, 1]\n",
    "        for k in range(2, n):\n",
    "            fib.append(fib[-1] + fib[-2])\n",
    "        fib = np.array(fib)\n",
    "        return np.dot(prices, fib) / np.sum(fib)\n",
    "\n",
    "    data['FWMA'] = data['Price'].rolling(window=period).apply(fwma_fibonacci, raw=True)\n",
    "\n",
    "    # 5. Decay - VWAP (exponential decay)\n",
    "    if decay_lambda is None:\n",
    "        if not (0.0 < decay_factor < 1.0):\n",
    "            raise ValueError(\"decay_factor phải nằm trong (0, 1).\")\n",
    "        decay_lambda = -np.log(decay_factor)\n",
    "    \n",
    "    n = len(data)\n",
    "    if len(data) >= period:\n",
    "        price_vals = data['Price'].to_numpy(dtype=float)\n",
    "        vol_vals = data['Vol.'].to_numpy(dtype=float)\n",
    "\n",
    "        n_win = n - period + 1\n",
    "        s_price = price_vals.strides[0]\n",
    "        s_vol = vol_vals.strides[0]\n",
    "        price_windows = as_strided(price_vals, shape=(n_win, period), strides=(s_price, s_price))\n",
    "        vol_windows   = as_strided(vol_vals,   shape=(n_win, period), strides=(s_vol, s_vol))\n",
    "\n",
    "        i = np.arange(period - 1, -1, -1, dtype=float)\n",
    "        decay_weights = np.exp(-decay_lambda * i)\n",
    "        numerator = np.sum(price_windows * vol_windows * decay_weights, axis=1, dtype=float)\n",
    "        denominator = np.sum(vol_windows * decay_weights, axis=1, dtype=float)\n",
    "        decay_result = np.divide(numerator, denominator, out=np.full_like(numerator, np.nan), where=denominator != 0)\n",
    "        data['Decay'] = np.concatenate([np.full(period - 1, np.nan), decay_result])\n",
    "    else:\n",
    "        data['Decay'] = np.nan\n",
    "\n",
    "    return data\n",
    "\n",
    "# --- BẮT ĐẦU THỰC THI ---\n",
    "try:\n",
    "    # 1. Đọc dữ liệu\n",
    "    df = pd.read_csv('cleaned_stock_data.csv')\n",
    "\n",
    "    # 2. Tiền xử lý\n",
    "    df['Date'] = pd.to_datetime(df['Date'])\n",
    "    df = df.sort_values(['Ticker', 'Date'])\n",
    "\n",
    "    # 3. Áp dụng hàm tính toán\n",
    "    df_with_indicators = df.groupby('Ticker', group_keys=False).apply(\n",
    "        calculate_technical_indicators, \n",
    "        period=20,\n",
    "        decay_factor=0.95\n",
    "    )\n",
    "    \n",
    "    # 4. XUẤT RA TỆP CSV\n",
    "    output_filename = 'stock_data_with_indicators.csv'\n",
    "    df_with_indicators.to_csv(output_filename, index=False, encoding='utf-8')\n",
    "\n",
    "    print(f\"Hoàn thành! Dữ liệu đã được xuất thành công ra tệp '{output_filename}'.\")\n",
    "\n",
    "except FileNotFoundError:\n",
    "    print(\"Lỗi: Không tìm thấy tệp 'cleaned_stock_data.csv'.\")\n",
    "    print(\"Vui lòng đảm bảo tệp dữ liệu nằm cùng thư mục với file code.\")"
   ]
  },
  {
   "cell_type": "code",
   "execution_count": null,
   "id": "ae220578-af48-4f10-a749-2e48f6a7d7f8",
   "metadata": {},
   "outputs": [],
   "source": []
  }
 ],
 "metadata": {
  "kernelspec": {
   "display_name": "base",
   "language": "python",
   "name": "python3"
  },
  "language_info": {
   "codemirror_mode": {
    "name": "ipython",
    "version": 3
   },
   "file_extension": ".py",
   "mimetype": "text/x-python",
   "name": "python",
   "nbconvert_exporter": "python",
   "pygments_lexer": "ipython3",
   "version": "3.12.5"
  }
 },
 "nbformat": 4,
 "nbformat_minor": 5
}
